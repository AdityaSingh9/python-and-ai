{
 "cells": [
  {
   "cell_type": "markdown",
   "metadata": {},
   "source": [
    "## parts of specch tagging\n",
    "### lets try to tag and categorize different parts of speech\n",
    "### same way how we did for lemmatization"
   ]
  },
  {
   "cell_type": "code",
   "execution_count": 29,
   "metadata": {},
   "outputs": [],
   "source": [
    "paragraph= \"\"\"I have three visions for India. In 3000 years of our history people from all over the world have come and invaded us, captured our lands, conquered our minds. From Alexander onwards the Greeks, the Turks, the Moguls, the Portuguese, the British, the French, the Dutch, all of them came and looted us, took over what was ours. Yet we have not done this to any other nation. We have not conquered anyone. We have not grabbed their land, their culture and their history and tried to enforce our way of life on them. Why? Because we respect the freedom of others. That is why my FIRST VISION is that of FREEDOM. I believe that India got its first vision of this in 1857, when we started the war of Independence. It is this freedom that we must protect and nurture and build on. If we are not free, no one will respect us.\n",
    "\n",
    "We have 10 percent growth rate in most areas. Our poverty levels are falling. Our achievements are being globally recognised today. Yet we lack the self-confidence to see ourselves as a developed nation, self-reliant and self-assured. Isn’t this incorrect? MY SECOND VISION for India is DEVELOPMENT. For fifty years we have been a developing nation. It is time we see ourselves as a developed nation. We are among top five nations in the world in terms of GDP.\n",
    "\n",
    "I have a THIRD VISION. India must stand up to the world. Because I believe that unless India stands up to the world, no one will respect us. Only strength respects strength. We must be strong not only as a military power but also as an economic power. Both must go hand-in-hand. My good fortune was to have worked with three great minds. Dr.Vikram Sarabhai, of the Dept. of Space, Professor Satish Dhawan, who succeeded him and Dr. Brahm Prakash, father of nuclear material. I was lucky to have worked with all three of them closely and consider this the great opportunity of my life.\n",
    "\n",
    "I was in Hyderabad giving this lecture, when a 14 year-old girl asked me for my autograph. I asked her what her goal in life is. She replied: I want to live in a developed India. For her, you and I will have to build this developed India. You must proclaim India is not an underdeveloped nation; it is a highly developed nation.\n",
    "\n",
    "You say that our government is inefficient. You say that our laws are too old. You say that the municipality does not pick up the garbage. You say that the phones don’t work, the railways are a joke, the airline is the worst in the world, and mails never reach their destination. You say that our country has been fed to the dogs and is the absolute pits. You say, say and say. What do you do about it?\"\"\""
   ]
  },
  {
   "cell_type": "code",
   "execution_count": 30,
   "metadata": {},
   "outputs": [],
   "source": [
    "from nltk.stem import PorterStemmer as PS"
   ]
  },
  {
   "cell_type": "code",
   "execution_count": 31,
   "metadata": {},
   "outputs": [],
   "source": [
    "from nltk import *\n",
    "stemmer=PorterStemmer()\n",
    "sentences=sent_tokenize(paragraph)"
   ]
  },
  {
   "cell_type": "code",
   "execution_count": 32,
   "metadata": {},
   "outputs": [
    {
     "name": "stdout",
     "output_type": "stream",
     "text": [
      "['I have three visions for India.', 'In 3000 years of our history people from all over the world have come and invaded us, captured our lands, conquered our minds.', 'From Alexander onwards the Greeks, the Turks, the Moguls, the Portuguese, the British, the French, the Dutch, all of them came and looted us, took over what was ours.', 'Yet we have not done this to any other nation.', 'We have not conquered anyone.', 'We have not grabbed their land, their culture and their history and tried to enforce our way of life on them.', 'Why?', 'Because we respect the freedom of others.', 'That is why my FIRST VISION is that of FREEDOM.', 'I believe that India got its first vision of this in 1857, when we started the war of Independence.', 'It is this freedom that we must protect and nurture and build on.', 'If we are not free, no one will respect us.', 'We have 10 percent growth rate in most areas.', 'Our poverty levels are falling.', 'Our achievements are being globally recognised today.', 'Yet we lack the self-confidence to see ourselves as a developed nation, self-reliant and self-assured.', 'Isn’t this incorrect?', 'MY SECOND VISION for India is DEVELOPMENT.', 'For fifty years we have been a developing nation.', 'It is time we see ourselves as a developed nation.', 'We are among top five nations in the world in terms of GDP.', 'I have a THIRD VISION.', 'India must stand up to the world.', 'Because I believe that unless India stands up to the world, no one will respect us.', 'Only strength respects strength.', 'We must be strong not only as a military power but also as an economic power.', 'Both must go hand-in-hand.', 'My good fortune was to have worked with three great minds.', 'Dr.Vikram Sarabhai, of the Dept.', 'of Space, Professor Satish Dhawan, who succeeded him and Dr. Brahm Prakash, father of nuclear material.', 'I was lucky to have worked with all three of them closely and consider this the great opportunity of my life.', 'I was in Hyderabad giving this lecture, when a 14 year-old girl asked me for my autograph.', 'I asked her what her goal in life is.', 'She replied: I want to live in a developed India.', 'For her, you and I will have to build this developed India.', 'You must proclaim India is not an underdeveloped nation; it is a highly developed nation.', 'You say that our government is inefficient.', 'You say that our laws are too old.', 'You say that the municipality does not pick up the garbage.', 'You say that the phones don’t work, the railways are a joke, the airline is the worst in the world, and mails never reach their destination.', 'You say that our country has been fed to the dogs and is the absolute pits.', 'You say, say and say.', 'What do you do about it?']\n"
     ]
    }
   ],
   "source": [
    "print(sentences)"
   ]
  },
  {
   "cell_type": "code",
   "execution_count": null,
   "metadata": {},
   "outputs": [
    {
     "name": "stdout",
     "output_type": "stream",
     "text": [
      "[('I', 'PRP'), ('three', 'CD'), ('visions', 'NNS'), ('India', 'NNP'), ('.', '.')]\n",
      "[('In', 'IN'), ('3000', 'CD'), ('years', 'NNS'), ('history', 'NN'), ('people', 'NNS'), ('world', 'NN'), ('come', 'VBP'), ('invaded', 'VBN'), ('us', 'PRP'), (',', ','), ('captured', 'VBD'), ('lands', 'NNS'), (',', ','), ('conquered', 'VBD'), ('minds', 'NNS'), ('.', '.')]\n",
      "[('From', 'IN'), ('Alexander', 'NNP'), ('onwards', 'NNS'), ('Greeks', 'NNP'), (',', ','), ('Turks', 'NNP'), (',', ','), ('Moguls', 'NNP'), (',', ','), ('Portuguese', 'NNP'), (',', ','), ('British', 'NNP'), (',', ','), ('French', 'NNP'), (',', ','), ('Dutch', 'NNP'), (',', ','), ('came', 'VBD'), ('looted', 'JJ'), ('us', 'PRP'), (',', ','), ('took', 'VBD'), ('.', '.')]\n",
      "[('Yet', 'RB'), ('done', 'VBN'), ('nation', 'NN'), ('.', '.')]\n",
      "[('We', 'PRP'), ('conquered', 'VBD'), ('anyone', 'NN'), ('.', '.')]\n",
      "[('We', 'PRP'), ('grabbed', 'VBD'), ('land', 'NN'), (',', ','), ('culture', 'NN'), ('history', 'NN'), ('tried', 'VBD'), ('enforce', 'JJ'), ('way', 'NN'), ('life', 'NN'), ('.', '.')]\n",
      "[('Why', 'WRB'), ('?', '.')]\n",
      "[('Because', 'IN'), ('respect', 'NN'), ('freedom', 'NN'), ('others', 'NNS'), ('.', '.')]\n",
      "[('That', 'DT'), ('FIRST', 'NNP'), ('VISION', 'NNP'), ('FREEDOM', 'NNP'), ('.', '.')]\n",
      "[('I', 'PRP'), ('believe', 'VBP'), ('India', 'NNP'), ('got', 'VBD'), ('first', 'JJ'), ('vision', 'NN'), ('1857', 'CD'), (',', ','), ('started', 'VBD'), ('war', 'NN'), ('Independence', 'NN'), ('.', '.')]\n",
      "[('It', 'PRP'), ('freedom', 'NN'), ('must', 'MD'), ('protect', 'VB'), ('nurture', 'NN'), ('build', 'NN'), ('.', '.')]\n",
      "[('If', 'IN'), ('free', 'JJ'), (',', ','), ('one', 'CD'), ('respect', 'NN'), ('us', 'PRP'), ('.', '.')]\n",
      "[('We', 'PRP'), ('10', 'CD'), ('percent', 'JJ'), ('growth', 'NN'), ('rate', 'NN'), ('areas', 'NNS'), ('.', '.')]\n",
      "[('Our', 'PRP$'), ('poverty', 'NN'), ('levels', 'NNS'), ('falling', 'VBG'), ('.', '.')]\n",
      "[('Our', 'PRP$'), ('achievements', 'NNS'), ('globally', 'RB'), ('recognised', 'VBN'), ('today', 'NN'), ('.', '.')]\n",
      "[('Yet', 'RB'), ('lack', 'JJ'), ('self-confidence', 'NN'), ('see', 'NN'), ('developed', 'JJ'), ('nation', 'NN'), (',', ','), ('self-reliant', 'JJ'), ('self-assured', 'JJ'), ('.', '.')]\n",
      "[('Isn', 'NNP'), ('’', 'NNP'), ('incorrect', 'NN'), ('?', '.')]\n",
      "[('MY', 'PRP$'), ('SECOND', 'JJ'), ('VISION', 'NNP'), ('India', 'NNP'), ('DEVELOPMENT', 'NNP'), ('.', '.')]\n",
      "[('For', 'IN'), ('fifty', 'JJ'), ('years', 'NNS'), ('developing', 'VBG'), ('nation', 'NN'), ('.', '.')]\n",
      "[('It', 'PRP'), ('time', 'NN'), ('see', 'VB'), ('developed', 'JJ'), ('nation', 'NN'), ('.', '.')]\n",
      "[('We', 'PRP'), ('among', 'IN'), ('top', 'JJ'), ('five', 'CD'), ('nations', 'NNS'), ('world', 'NN'), ('terms', 'NNS'), ('GDP', 'NNP'), ('.', '.')]\n",
      "[('I', 'PRP'), ('THIRD', 'VBP'), ('VISION', 'NNP'), ('.', '.')]\n",
      "[('India', 'NNP'), ('must', 'MD'), ('stand', 'VB'), ('world', 'NN'), ('.', '.')]\n",
      "[('Because', 'IN'), ('I', 'PRP'), ('believe', 'VBP'), ('unless', 'IN'), ('India', 'NNP'), ('stands', 'VBZ'), ('world', 'NN'), (',', ','), ('one', 'CD'), ('respect', 'NN'), ('us', 'PRP'), ('.', '.')]\n",
      "[('Only', 'RB'), ('strength', 'NN'), ('respects', 'NNS'), ('strength', 'NN'), ('.', '.')]\n",
      "[('We', 'PRP'), ('must', 'MD'), ('strong', 'JJ'), ('military', 'JJ'), ('power', 'NN'), ('also', 'RB'), ('economic', 'JJ'), ('power', 'NN'), ('.', '.')]\n",
      "[('Both', 'DT'), ('must', 'MD'), ('go', 'VB'), ('hand-in-hand', 'NN'), ('.', '.')]\n",
      "[('My', 'PRP$'), ('good', 'JJ'), ('fortune', 'NN'), ('worked', 'VBD'), ('three', 'CD'), ('great', 'JJ'), ('minds', 'NNS'), ('.', '.')]\n",
      "[('Dr.Vikram', 'NNP'), ('Sarabhai', 'NNP'), (',', ','), ('Dept', 'NNP'), ('.', '.')]\n",
      "[('Space', 'NNP'), (',', ','), ('Professor', 'NNP'), ('Satish', 'NNP'), ('Dhawan', 'NNP'), (',', ','), ('succeeded', 'VBD'), ('Dr.', 'NNP'), ('Brahm', 'NNP'), ('Prakash', 'NNP'), (',', ','), ('father', 'RB'), ('nuclear', 'JJ'), ('material', 'NN'), ('.', '.')]\n",
      "[('I', 'PRP'), ('lucky', 'VBP'), ('worked', 'VBD'), ('three', 'CD'), ('closely', 'RB'), ('consider', 'VBP'), ('great', 'JJ'), ('opportunity', 'NN'), ('life', 'NN'), ('.', '.')]\n",
      "[('I', 'PRP'), ('Hyderabad', 'VBP'), ('giving', 'VBG'), ('lecture', 'NN'), (',', ','), ('14', 'CD'), ('year-old', 'JJ'), ('girl', 'NN'), ('asked', 'VBD'), ('autograph', 'NN'), ('.', '.')]\n",
      "[('I', 'PRP'), ('asked', 'VBD'), ('goal', 'NN'), ('life', 'NN'), ('.', '.')]\n",
      "[('She', 'PRP'), ('replied', 'VBD'), (':', ':'), ('I', 'PRP'), ('want', 'VBP'), ('live', 'JJ'), ('developed', 'VBN'), ('India', 'NNP'), ('.', '.')]\n",
      "[('For', 'IN'), (',', ','), ('I', 'PRP'), ('build', 'VBP'), ('developed', 'JJ'), ('India', 'NNP'), ('.', '.')]\n",
      "[('You', 'PRP'), ('must', 'MD'), ('proclaim', 'VB'), ('India', 'NNP'), ('underdeveloped', 'JJ'), ('nation', 'NN'), (';', ':'), ('highly', 'RB'), ('developed', 'JJ'), ('nation', 'NN'), ('.', '.')]\n",
      "[('You', 'PRP'), ('say', 'VBP'), ('government', 'NN'), ('inefficient', 'NN'), ('.', '.')]\n",
      "[('You', 'PRP'), ('say', 'VBP'), ('laws', 'NNS'), ('old', 'JJ'), ('.', '.')]\n",
      "[('You', 'PRP'), ('say', 'VBP'), ('municipality', 'JJ'), ('pick', 'JJ'), ('garbage', 'NN'), ('.', '.')]\n",
      "[('You', 'PRP'), ('say', 'VBP'), ('phones', 'NNS'), ('’', 'NNP'), ('work', 'NN'), (',', ','), ('railways', 'NNS'), ('joke', 'VBD'), (',', ','), ('airline', 'NN'), ('worst', 'JJS'), ('world', 'NN'), (',', ','), ('mails', 'NNS'), ('never', 'RB'), ('reach', 'VBP'), ('destination', 'NN'), ('.', '.')]\n",
      "[('You', 'PRP'), ('say', 'VBP'), ('country', 'NN'), ('fed', 'VBD'), ('dogs', 'NNS'), ('absolute', 'JJ'), ('pits', 'NNS'), ('.', '.')]\n",
      "[('You', 'PRP'), ('say', 'VBP'), (',', ','), ('say', 'VBP'), ('say', 'UH'), ('.', '.')]\n",
      "[('What', 'WP'), ('?', '.')]\n"
     ]
    }
   ],
   "source": [
    "#finding out the POS Tag\n",
    "for i in range(len(sentences)):\n",
    "    words=word_tokenize(sentences[i])\n",
    "    words=[word for word in words if word not in set(stopwords.words(\"english\"))]\n",
    "    tagged_words = pos_tag(words)  #pos tagging\n",
    "    print(tagged_words)"
   ]
  },
  {
   "cell_type": "code",
   "execution_count": 47,
   "metadata": {},
   "outputs": [
    {
     "name": "stdout",
     "output_type": "stream",
     "text": [
      "[('Aditya', 'NN')]\n",
      "[('is', 'VBZ')]\n",
      "[('a', 'DT')]\n",
      "[('good', 'JJ')]\n",
      "[('student', 'NN')]\n"
     ]
    }
   ],
   "source": [
    "for i in \"Aditya is a good student\".split():\n",
    "    tagged_words=pos_tag([i])\n",
    "    print(tagged_words)"
   ]
  },
  {
   "cell_type": "code",
   "execution_count": 48,
   "metadata": {},
   "outputs": [
    {
     "name": "stdout",
     "output_type": "stream",
     "text": [
      "[('Aditya', 'NNP'), ('is', 'VBZ'), ('a', 'DT'), ('good', 'JJ'), ('student', 'NN')]\n"
     ]
    }
   ],
   "source": [
    "##same code here : it actually needs just a list of words\n",
    "tagged_words=pos_tag(\"Aditya is a good student\".split())\n",
    "print(tagged_words)"
   ]
  },
  {
   "cell_type": "markdown",
   "metadata": {},
   "source": [
    "## Named Entity Recognition"
   ]
  },
  {
   "cell_type": "code",
   "execution_count": 49,
   "metadata": {},
   "outputs": [],
   "source": [
    "sentence=\"Albert Einstein was a German-born theoretical physicist best known for developing the theory of relativity. His famous equation, E = mc², revolutionized our understanding of energy and mass. He received the Nobel Prize in Physics in 1921 for his work on the photoelectric effect. Einstein was also a passionate advocate for peace and civil rights. His ideas transformed modern physics and continue to influence science today.\""
   ]
  },
  {
   "cell_type": "code",
   "execution_count": 52,
   "metadata": {},
   "outputs": [],
   "source": [
    "words=word_tokenize(sentence)"
   ]
  },
  {
   "cell_type": "code",
   "execution_count": 59,
   "metadata": {},
   "outputs": [
    {
     "name": "stdout",
     "output_type": "stream",
     "text": [
      "[('Albert', 'NNP'), ('Einstein', 'NNP'), ('was', 'VBD'), ('a', 'DT'), ('German-born', 'JJ'), ('theoretical', 'JJ'), ('physicist', 'NN'), ('best', 'JJS'), ('known', 'VBN'), ('for', 'IN'), ('developing', 'VBG'), ('the', 'DT'), ('theory', 'NN'), ('of', 'IN'), ('relativity', 'NN'), ('.', '.'), ('His', 'PRP$'), ('famous', 'JJ'), ('equation', 'NN'), (',', ','), ('E', 'NNP'), ('=', 'NNP'), ('mc²', 'NN'), (',', ','), ('revolutionized', 'VBD'), ('our', 'PRP$'), ('understanding', 'NN'), ('of', 'IN'), ('energy', 'NN'), ('and', 'CC'), ('mass', 'NN'), ('.', '.'), ('He', 'PRP'), ('received', 'VBD'), ('the', 'DT'), ('Nobel', 'NNP'), ('Prize', 'NNP'), ('in', 'IN'), ('Physics', 'NNPS'), ('in', 'IN'), ('1921', 'CD'), ('for', 'IN'), ('his', 'PRP$'), ('work', 'NN'), ('on', 'IN'), ('the', 'DT'), ('photoelectric', 'JJ'), ('effect', 'NN'), ('.', '.'), ('Einstein', 'NNP'), ('was', 'VBD'), ('also', 'RB'), ('a', 'DT'), ('passionate', 'NN'), ('advocate', 'NN'), ('for', 'IN'), ('peace', 'NN'), ('and', 'CC'), ('civil', 'JJ'), ('rights', 'NNS'), ('.', '.'), ('His', 'PRP$'), ('ideas', 'NNS'), ('transformed', 'VBD'), ('modern', 'JJ'), ('physics', 'NNS'), ('and', 'CC'), ('continue', 'VB'), ('to', 'TO'), ('influence', 'VB'), ('science', 'NN'), ('today', 'NN'), ('.', '.')]\n"
     ]
    }
   ],
   "source": [
    "tag_elements=pos_tag(words)     #same old shit tagging pos\n",
    "print(tag_elements)"
   ]
  },
  {
   "cell_type": "code",
   "execution_count": 61,
   "metadata": {},
   "outputs": [
    {
     "name": "stderr",
     "output_type": "stream",
     "text": [
      "[nltk_data] Downloading package maxent_ne_chunker to\n",
      "[nltk_data]     /Users/adityakumarsingh/nltk_data...\n",
      "[nltk_data]   Package maxent_ne_chunker is already up-to-date!\n"
     ]
    },
    {
     "data": {
      "text/plain": [
       "True"
      ]
     },
     "execution_count": 61,
     "metadata": {},
     "output_type": "execute_result"
    }
   ],
   "source": [
    "download(\"maxent_ne_chunker\")"
   ]
  },
  {
   "cell_type": "code",
   "execution_count": 63,
   "metadata": {},
   "outputs": [
    {
     "name": "stdout",
     "output_type": "stream",
     "text": [
      "(S\n",
      "  (PERSON Albert/NNP)\n",
      "  (PERSON Einstein/NNP)\n",
      "  was/VBD\n",
      "  a/DT\n",
      "  German-born/JJ\n",
      "  theoretical/JJ\n",
      "  physicist/NN\n",
      "  best/JJS\n",
      "  known/VBN\n",
      "  for/IN\n",
      "  developing/VBG\n",
      "  the/DT\n",
      "  theory/NN\n",
      "  of/IN\n",
      "  relativity/NN\n",
      "  ./.\n",
      "  His/PRP$\n",
      "  famous/JJ\n",
      "  equation/NN\n",
      "  ,/,\n",
      "  (PERSON E/NNP)\n",
      "  =/NNP\n",
      "  mc²/NN\n",
      "  ,/,\n",
      "  revolutionized/VBD\n",
      "  our/PRP$\n",
      "  understanding/NN\n",
      "  of/IN\n",
      "  energy/NN\n",
      "  and/CC\n",
      "  mass/NN\n",
      "  ./.\n",
      "  He/PRP\n",
      "  received/VBD\n",
      "  the/DT\n",
      "  (ORGANIZATION Nobel/NNP Prize/NNP)\n",
      "  in/IN\n",
      "  (GPE Physics/NNPS)\n",
      "  in/IN\n",
      "  1921/CD\n",
      "  for/IN\n",
      "  his/PRP$\n",
      "  work/NN\n",
      "  on/IN\n",
      "  the/DT\n",
      "  photoelectric/JJ\n",
      "  effect/NN\n",
      "  ./.\n",
      "  (PERSON Einstein/NNP)\n",
      "  was/VBD\n",
      "  also/RB\n",
      "  a/DT\n",
      "  passionate/NN\n",
      "  advocate/NN\n",
      "  for/IN\n",
      "  peace/NN\n",
      "  and/CC\n",
      "  civil/JJ\n",
      "  rights/NNS\n",
      "  ./.\n",
      "  His/PRP$\n",
      "  ideas/NNS\n",
      "  transformed/VBD\n",
      "  modern/JJ\n",
      "  physics/NNS\n",
      "  and/CC\n",
      "  continue/VB\n",
      "  to/TO\n",
      "  influence/VB\n",
      "  science/NN\n",
      "  today/NN\n",
      "  ./.)\n"
     ]
    }
   ],
   "source": [
    "chunked=ne_chunk(tag_elements)\n",
    "print(chunked)"
   ]
  },
  {
   "cell_type": "code",
   "execution_count": 65,
   "metadata": {},
   "outputs": [],
   "source": [
    "ne_chunk(tag_elements).draw() #gives a graph"
   ]
  }
 ],
 "metadata": {
  "kernelspec": {
   "display_name": "venv",
   "language": "python",
   "name": "python3"
  },
  "language_info": {
   "codemirror_mode": {
    "name": "ipython",
    "version": 3
   },
   "file_extension": ".py",
   "mimetype": "text/x-python",
   "name": "python",
   "nbconvert_exporter": "python",
   "pygments_lexer": "ipython3",
   "version": "3.12.0"
  }
 },
 "nbformat": 4,
 "nbformat_minor": 2
}
