{
 "cells": [
  {
   "cell_type": "code",
   "execution_count": null,
   "metadata": {},
   "outputs": [
    {
     "name": "stdout",
     "output_type": "stream",
     "text": [
      "['aditya', True, 1234, 1.1]\n",
      "<class 'list'>\n",
      "True\n"
     ]
    }
   ],
   "source": [
    "lst=[\"aditya\",True,1234,1.1]\n",
    "print(lst)  \n",
    "print(type(lst))\n",
    "print(lst[1])           #access one element based on index"
   ]
  },
  {
   "cell_type": "code",
   "execution_count": null,
   "metadata": {},
   "outputs": [
    {
     "name": "stdout",
     "output_type": "stream",
     "text": [
      "[True, 1234, 1.1]\n",
      "['aditya', True]\n",
      "['aditya', True, 1234]\n",
      "['aditya', True, 1234, 1.1]\n",
      "[True, 1234]\n",
      "[]\n"
     ]
    }
   ],
   "source": [
    "### [start indx : end indx] if one not provided it will go end to end as default , end part is exclusive\n",
    "print(lst[1:])  \n",
    "print(lst[:2])\n",
    "print(lst[:-1])\n",
    "print(lst[:])\n",
    "print(lst[-3:-1])\n",
    "print(lst[-1:-3])  ## doesnt work in reverse way\n",
    "\n"
   ]
  },
  {
   "cell_type": "code",
   "execution_count": 11,
   "metadata": {},
   "outputs": [
    {
     "name": "stdout",
     "output_type": "stream",
     "text": [
      "['aditya', 'A', 'd', 'i', 't', 'y', 'a']\n"
     ]
    }
   ],
   "source": [
    "## add a string char by char in array\n",
    "lst[1:]=\"Aditya\"\n",
    "print(lst)"
   ]
  },
  {
   "cell_type": "markdown",
   "metadata": {},
   "source": [
    "## List Methods"
   ]
  },
  {
   "cell_type": "code",
   "execution_count": null,
   "metadata": {},
   "outputs": [
    {
     "name": "stdout",
     "output_type": "stream",
     "text": [
      "['apple', 'Banana', 'cherry', 'Donuts']\n",
      "['apple', 'cake', 'Banana', 'cherry', 'Donuts']\n",
      "['apple', 'Banana', 'cherry', 'Donuts']\n",
      "Donuts\n",
      "['apple', 'Banana', 'cherry']\n",
      "0\n",
      "1\n"
     ]
    }
   ],
   "source": [
    "#define new list\n",
    "lst=[\"apple\",\"Banana\",\"cherry\"]\n",
    "#append\n",
    "lst.append(\"Donuts\")\n",
    "print(lst)\n",
    "#insert \n",
    "lst.insert(1,\"cake\")\n",
    "print(lst)\n",
    "#remove\n",
    "lst.remove(\"cake\")\n",
    "print(lst)\n",
    "#pop\n",
    "popped_item=lst.pop()\n",
    "print(popped_item)\n",
    "print(lst)\n",
    "#get index\n",
    "print(lst.index(\"apple\"))\n",
    "#count \n",
    "print(lst.count(\"apple\"))\n",
    "\n"
   ]
  },
  {
   "cell_type": "code",
   "execution_count": 27,
   "metadata": {},
   "outputs": [
    {
     "name": "stdout",
     "output_type": "stream",
     "text": [
      "['Banana', 'apple', 'cherry']\n",
      "['cherry', 'apple', 'Banana']\n",
      "[]\n"
     ]
    }
   ],
   "source": [
    "#sort and reverse\n",
    "lst.sort()   #B is capital \n",
    "print(lst)\n",
    "lst.reverse()\n",
    "print(lst)\n",
    "\n",
    "#clear list\n",
    "lst.clear()\n",
    "print(lst)"
   ]
  },
  {
   "cell_type": "code",
   "execution_count": 28,
   "metadata": {},
   "outputs": [
    {
     "name": "stdout",
     "output_type": "stream",
     "text": [
      "[3, 4]\n",
      "[1, 2, 3, 4]\n",
      "[3, 4, 5, 6, 7, 8]\n",
      "[1, 3, 5, 7]\n",
      "[8, 7, 6, 5, 4, 3, 2, 1]\n"
     ]
    }
   ],
   "source": [
    "#slice list\n",
    "lst=[1,2,3,4,5,6,7,8]\n",
    "print(lst[2:4])\n",
    "print(lst[:4])\n",
    "print(lst[2:])\n",
    "print(lst[::2])\n",
    "print(lst[::-1])"
   ]
  },
  {
   "cell_type": "code",
   "execution_count": null,
   "metadata": {},
   "outputs": [
    {
     "name": "stdout",
     "output_type": "stream",
     "text": [
      "1\n",
      "2\n",
      "3\n",
      "4\n",
      "5\n",
      "6\n",
      "7\n",
      "8\n",
      "[0, 1, 4, 9, 16, 25, 36, 49, 64, 81]\n",
      "[0, 2, 4, 6, 8]\n"
     ]
    }
   ],
   "source": [
    "### Iteration over list\n",
    "for i in lst:\n",
    "    print(i)\n",
    "\n",
    "###List comprehenison   (conditional logic + iteration)\n",
    "[x**2 for x in range(10)]\n",
    "\n",
    "#examples:\n",
    "square=[num**2 for num in range(10)]\n",
    "print(square)\n",
    "even_numbers=[num for num in range(10) if num%2==0]   \n",
    "print(even_numbers)"
   ]
  },
  {
   "cell_type": "markdown",
   "metadata": {},
   "source": [
    "# Tuples methods"
   ]
  },
  {
   "cell_type": "code",
   "execution_count": 38,
   "metadata": {},
   "outputs": [
    {
     "data": {
      "text/plain": [
       "tuple"
      ]
     },
     "execution_count": 38,
     "metadata": {},
     "output_type": "execute_result"
    }
   ],
   "source": [
    "tup=(1,2,3,4)\n",
    "type(tup)"
   ]
  },
  {
   "cell_type": "code",
   "execution_count": 39,
   "metadata": {},
   "outputs": [
    {
     "name": "stdout",
     "output_type": "stream",
     "text": [
      "(1, 2, 3, 4)\n",
      "(3, 4)\n",
      "(1, 2)\n",
      "(1, 2, 3, 4)\n",
      "(4, 3, 2, 1)\n",
      "(1, 3)\n"
     ]
    }
   ],
   "source": [
    "print(tup[:])\n",
    "print(tup[2:])\n",
    "print(tup[:2])\n",
    "print(tup[::])\n",
    "print(tup[::-1])\n",
    "print(tup[::2])"
   ]
  },
  {
   "cell_type": "code",
   "execution_count": 40,
   "metadata": {},
   "outputs": [
    {
     "name": "stdout",
     "output_type": "stream",
     "text": [
      "(1, 2, 3, 4, 'A', 'B', 'C', 'D')\n"
     ]
    }
   ],
   "source": [
    "tup1=(1,2,3,4)\n",
    "tup2=(\"A\",\"B\",\"C\",\"D\")\n",
    "print(tup1+tup2)"
   ]
  },
  {
   "cell_type": "code",
   "execution_count": 41,
   "metadata": {},
   "outputs": [],
   "source": [
    "##tup[1]=\"abc\" throws error\n",
    "## to modify tuple values , one can convert it into list and modify and then convert back to tuple"
   ]
  },
  {
   "cell_type": "markdown",
   "metadata": {},
   "source": [
    "## Dictionary\n"
   ]
  },
  {
   "cell_type": "code",
   "execution_count": null,
   "metadata": {},
   "outputs": [
    {
     "name": "stdout",
     "output_type": "stream",
     "text": [
      "{'name': 'Aditya', 'Age': 23}\n"
     ]
    }
   ],
   "source": [
    "myDict={\"name\":\"Aditya\",\"Age\":23}\n",
    "print(myDict)"
   ]
  },
  {
   "cell_type": "code",
   "execution_count": 44,
   "metadata": {},
   "outputs": [
    {
     "name": "stdout",
     "output_type": "stream",
     "text": [
      "{'name': 'AKS', 'Age': 23}\n",
      "{'Age': 23}\n"
     ]
    }
   ],
   "source": [
    "myDict[\"name\"]=\"AKS\"\n",
    "print(myDict)\n",
    "del myDict[\"name\"]\n",
    "print(myDict)"
   ]
  },
  {
   "cell_type": "code",
   "execution_count": 47,
   "metadata": {},
   "outputs": [
    {
     "name": "stdout",
     "output_type": "stream",
     "text": [
      "dict_keys(['Age'])\n",
      "dict_values([23])\n",
      "dict_items([('Age', 23)])\n"
     ]
    }
   ],
   "source": [
    "#important methods in dict\n",
    "keys= myDict.keys()\n",
    "print(keys)\n",
    "values= myDict.values()\n",
    "print(values)\n",
    "items=myDict.items()\n",
    "print(items)"
   ]
  },
  {
   "cell_type": "code",
   "execution_count": null,
   "metadata": {},
   "outputs": [
    {
     "name": "stdout",
     "output_type": "stream",
     "text": [
      "{'Name': 'Aditya1', 'Age': 23}\n",
      "{'Name': 'Aditya1', 'Age': 23}\n",
      "{'Name': 'Aditya2', 'Age': 23}\n",
      "{'Name': 'Aditya2', 'Age': 23}\n"
     ]
    }
   ],
   "source": [
    "##shallow copy\n",
    "std={\"Name\": \"Aditya1\", \"Age\":23}\n",
    "std_copy=std;\n",
    "print(std)\n",
    "print(std_copy)\n",
    "std_copy[\"Name\"]=\"Aditya2\"\n",
    "print(std)\n",
    "print(std_copy)\n",
    "\n",
    "## to avoid prefer deep copy\n",
    "# abc.copy() ---> this allocates new memory"
   ]
  },
  {
   "cell_type": "code",
   "execution_count": null,
   "metadata": {},
   "outputs": [],
   "source": []
  }
 ],
 "metadata": {
  "kernelspec": {
   "display_name": "venv",
   "language": "python",
   "name": "python3"
  },
  "language_info": {
   "codemirror_mode": {
    "name": "ipython",
    "version": 3
   },
   "file_extension": ".py",
   "mimetype": "text/x-python",
   "name": "python",
   "nbconvert_exporter": "python",
   "pygments_lexer": "ipython3",
   "version": "3.12.0"
  }
 },
 "nbformat": 4,
 "nbformat_minor": 2
}
