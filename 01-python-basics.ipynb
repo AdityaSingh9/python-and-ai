{
 "cells": [
  {
   "cell_type": "code",
   "execution_count": 4,
   "metadata": {},
   "outputs": [
    {
     "name": "stdout",
     "output_type": "stream",
     "text": [
      "Aditya\n",
      "Singh\n"
     ]
    }
   ],
   "source": [
    "## case sensitive\n",
    "name=\"Aditya\"\n",
    "Name=\"Singh\"\n",
    "print(name)\n",
    "print(Name)"
   ]
  },
  {
   "cell_type": "code",
   "execution_count": 5,
   "metadata": {},
   "outputs": [
    {
     "name": "stdout",
     "output_type": "stream",
     "text": [
      "hello world\n"
     ]
    }
   ],
   "source": [
    "##Indentation for structure and defining blocks in code unlike braces in java\n",
    "age = 20\n",
    "if age>10:\n",
    "    print(\"hello world\")"
   ]
  },
  {
   "cell_type": "code",
   "execution_count": 11,
   "metadata": {},
   "outputs": [
    {
     "name": "stdout",
     "output_type": "stream",
     "text": [
      "6\n",
      "20\n"
     ]
    }
   ],
   "source": [
    "#multi statement\n",
    "x=1;y=2;z=3\n",
    "print(x+y+z)"
   ]
  },
  {
   "cell_type": "code",
   "execution_count": 14,
   "metadata": {},
   "outputs": [
    {
     "name": "stdout",
     "output_type": "stream",
     "text": [
      "<class 'str'>\n",
      "<class 'int'>\n"
     ]
    }
   ],
   "source": [
    "#variable assignments \n",
    "#dont need to define data types\n",
    "#no need to declare variables to reserve memory space.\n",
    "age=10\n",
    "name=\"Aditya\"\n",
    "print(type(name))\n",
    "print(type(age))"
   ]
  },
  {
   "cell_type": "code",
   "execution_count": 15,
   "metadata": {},
   "outputs": [
    {
     "name": "stdout",
     "output_type": "stream",
     "text": [
      "name :  Aditya\n",
      "age :  24\n",
      "employee : True\n",
      "height : 5.11\n"
     ]
    }
   ],
   "source": [
    "#variables continued: (auto datatypes assignment)\n",
    "#python is dynamicaally typed\n",
    "name=\"Aditya\"\n",
    "age=24\n",
    "height=5.11\n",
    "is_Employee=True\n",
    "\n",
    "print(\"name : \",name)\n",
    "print(\"age : \", age)\n",
    "print(\"employee :\", is_Employee)\n",
    "print(\"height :\",height)"
   ]
  },
  {
   "cell_type": "code",
   "execution_count": 17,
   "metadata": {},
   "outputs": [
    {
     "name": "stdout",
     "output_type": "stream",
     "text": [
      "<class 'int'>\n",
      "<class 'str'>\n",
      "10\n",
      "10 10\n"
     ]
    }
   ],
   "source": [
    "### Type conversion\n",
    "age=10 #int\n",
    "age_str=str(age) #converts into string like typecasting in java\n",
    "print(type(age))\n",
    "print(type(age_str))\n",
    "print(age_str)\n",
    "print(age,age_str)\n"
   ]
  },
  {
   "cell_type": "code",
   "execution_count": 18,
   "metadata": {},
   "outputs": [
    {
     "name": "stdout",
     "output_type": "stream",
     "text": [
      "12 <class 'str'>\n"
     ]
    }
   ],
   "source": [
    "#input from user\n",
    "age=input(\"enter the age\")\n",
    "print(age,type(age))\n",
    "## the type comes as string but we can type cast it again."
   ]
  },
  {
   "cell_type": "code",
   "execution_count": null,
   "metadata": {},
   "outputs": [
    {
     "name": "stdout",
     "output_type": "stream",
     "text": [
      "sum :  14.0  diff :  10.0  mul :  24.0  div :  6.0\n"
     ]
    }
   ],
   "source": [
    "#simple calculator with opeartors\n",
    "num1=float(input(\"enter first number\"))\n",
    "num2=float(input(\"enter second number\"))\n",
    "sum=num1+num2\n",
    "diff=num1-num2\n",
    "mul=num1*num2\n",
    "div=num1/num2\n",
    "print(\"sum : \",sum, \" diff : \",diff,\" mul : \",mul, \" div : \",div)"
   ]
  },
  {
   "cell_type": "code",
   "execution_count": 23,
   "metadata": {},
   "outputs": [
    {
     "name": "stdout",
     "output_type": "stream",
     "text": [
      "teen\n"
     ]
    }
   ],
   "source": [
    "##if elif else\n",
    "age=14\n",
    "if age>18:\n",
    "    print(\"Adult\")\n",
    "elif age>13:\n",
    "    print(\"teen\")\n",
    "else:\n",
    "    print(\"child\")"
   ]
  },
  {
   "cell_type": "code",
   "execution_count": null,
   "metadata": {},
   "outputs": [
    {
     "name": "stdout",
     "output_type": "stream",
     "text": [
      "0\n",
      "2\n",
      "4\n",
      "6\n",
      "8\n"
     ]
    }
   ],
   "source": [
    "#loop (start index, end(not included), step)\n",
    "for i in range(0,10,2):\n",
    "    print(i)"
   ]
  },
  {
   "cell_type": "code",
   "execution_count": 25,
   "metadata": {},
   "outputs": [
    {
     "name": "stdout",
     "output_type": "stream",
     "text": [
      "10\n",
      "7\n",
      "4\n"
     ]
    }
   ],
   "source": [
    "#reverse loop\n",
    "for i in range(10,1,-3):\n",
    "    print(i)"
   ]
  }
 ],
 "metadata": {
  "kernelspec": {
   "display_name": "venv",
   "language": "python",
   "name": "python3"
  },
  "language_info": {
   "codemirror_mode": {
    "name": "ipython",
    "version": 3
   },
   "file_extension": ".py",
   "mimetype": "text/x-python",
   "name": "python",
   "nbconvert_exporter": "python",
   "pygments_lexer": "ipython3",
   "version": "3.12.0"
  }
 },
 "nbformat": 4,
 "nbformat_minor": 2
}
