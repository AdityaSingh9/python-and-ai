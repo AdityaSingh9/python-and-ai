{
 "cells": [
  {
   "cell_type": "code",
   "execution_count": 1,
   "metadata": {},
   "outputs": [],
   "source": [
    "# Step 1: Import Libraries and Load the Model\n",
    "import numpy as np\n",
    "import tensorflow as tf\n",
    "from tensorflow.keras.datasets import imdb\n",
    "from tensorflow.keras.preprocessing import sequence\n",
    "from tensorflow.keras.models import load_model"
   ]
  },
  {
   "cell_type": "code",
   "execution_count": 2,
   "metadata": {},
   "outputs": [],
   "source": [
    "\n",
    "# Load the IMDB dataset word index\n",
    "word_index = imdb.get_word_index()\n",
    "reverse_word_index = {value: key for key, value in word_index.items()}"
   ]
  },
  {
   "cell_type": "code",
   "execution_count": 3,
   "metadata": {},
   "outputs": [
    {
     "name": "stderr",
     "output_type": "stream",
     "text": [
      "WARNING:absl:Compiled the loaded model, but the compiled metrics have yet to be built. `model.compile_metrics` will be empty until you train or evaluate the model.\n"
     ]
    },
    {
     "data": {
      "text/html": [
       "<pre style=\"white-space:pre;overflow-x:auto;line-height:normal;font-family:Menlo,'DejaVu Sans Mono',consolas,'Courier New',monospace\"><span style=\"font-weight: bold\">Model: \"sequential\"</span>\n",
       "</pre>\n"
      ],
      "text/plain": [
       "\u001b[1mModel: \"sequential\"\u001b[0m\n"
      ]
     },
     "metadata": {},
     "output_type": "display_data"
    },
    {
     "data": {
      "text/html": [
       "<pre style=\"white-space:pre;overflow-x:auto;line-height:normal;font-family:Menlo,'DejaVu Sans Mono',consolas,'Courier New',monospace\">┏━━━━━━━━━━━━━━━━━━━━━━━━━━━━━━━━━┳━━━━━━━━━━━━━━━━━━━━━━━━┳━━━━━━━━━━━━━━━┓\n",
       "┃<span style=\"font-weight: bold\"> Layer (type)                    </span>┃<span style=\"font-weight: bold\"> Output Shape           </span>┃<span style=\"font-weight: bold\">       Param # </span>┃\n",
       "┡━━━━━━━━━━━━━━━━━━━━━━━━━━━━━━━━━╇━━━━━━━━━━━━━━━━━━━━━━━━╇━━━━━━━━━━━━━━━┩\n",
       "│ embedding (<span style=\"color: #0087ff; text-decoration-color: #0087ff\">Embedding</span>)           │ (<span style=\"color: #00af00; text-decoration-color: #00af00\">32</span>, <span style=\"color: #00af00; text-decoration-color: #00af00\">500</span>, <span style=\"color: #00af00; text-decoration-color: #00af00\">128</span>)         │     <span style=\"color: #00af00; text-decoration-color: #00af00\">1,280,000</span> │\n",
       "├─────────────────────────────────┼────────────────────────┼───────────────┤\n",
       "│ simple_rnn (<span style=\"color: #0087ff; text-decoration-color: #0087ff\">SimpleRNN</span>)          │ (<span style=\"color: #00af00; text-decoration-color: #00af00\">32</span>, <span style=\"color: #00af00; text-decoration-color: #00af00\">128</span>)              │        <span style=\"color: #00af00; text-decoration-color: #00af00\">32,896</span> │\n",
       "├─────────────────────────────────┼────────────────────────┼───────────────┤\n",
       "│ dense (<span style=\"color: #0087ff; text-decoration-color: #0087ff\">Dense</span>)                   │ (<span style=\"color: #00af00; text-decoration-color: #00af00\">32</span>, <span style=\"color: #00af00; text-decoration-color: #00af00\">1</span>)                │           <span style=\"color: #00af00; text-decoration-color: #00af00\">129</span> │\n",
       "└─────────────────────────────────┴────────────────────────┴───────────────┘\n",
       "</pre>\n"
      ],
      "text/plain": [
       "┏━━━━━━━━━━━━━━━━━━━━━━━━━━━━━━━━━┳━━━━━━━━━━━━━━━━━━━━━━━━┳━━━━━━━━━━━━━━━┓\n",
       "┃\u001b[1m \u001b[0m\u001b[1mLayer (type)                   \u001b[0m\u001b[1m \u001b[0m┃\u001b[1m \u001b[0m\u001b[1mOutput Shape          \u001b[0m\u001b[1m \u001b[0m┃\u001b[1m \u001b[0m\u001b[1m      Param #\u001b[0m\u001b[1m \u001b[0m┃\n",
       "┡━━━━━━━━━━━━━━━━━━━━━━━━━━━━━━━━━╇━━━━━━━━━━━━━━━━━━━━━━━━╇━━━━━━━━━━━━━━━┩\n",
       "│ embedding (\u001b[38;5;33mEmbedding\u001b[0m)           │ (\u001b[38;5;34m32\u001b[0m, \u001b[38;5;34m500\u001b[0m, \u001b[38;5;34m128\u001b[0m)         │     \u001b[38;5;34m1,280,000\u001b[0m │\n",
       "├─────────────────────────────────┼────────────────────────┼───────────────┤\n",
       "│ simple_rnn (\u001b[38;5;33mSimpleRNN\u001b[0m)          │ (\u001b[38;5;34m32\u001b[0m, \u001b[38;5;34m128\u001b[0m)              │        \u001b[38;5;34m32,896\u001b[0m │\n",
       "├─────────────────────────────────┼────────────────────────┼───────────────┤\n",
       "│ dense (\u001b[38;5;33mDense\u001b[0m)                   │ (\u001b[38;5;34m32\u001b[0m, \u001b[38;5;34m1\u001b[0m)                │           \u001b[38;5;34m129\u001b[0m │\n",
       "└─────────────────────────────────┴────────────────────────┴───────────────┘\n"
      ]
     },
     "metadata": {},
     "output_type": "display_data"
    },
    {
     "data": {
      "text/html": [
       "<pre style=\"white-space:pre;overflow-x:auto;line-height:normal;font-family:Menlo,'DejaVu Sans Mono',consolas,'Courier New',monospace\"><span style=\"font-weight: bold\"> Total params: </span><span style=\"color: #00af00; text-decoration-color: #00af00\">1,313,027</span> (5.01 MB)\n",
       "</pre>\n"
      ],
      "text/plain": [
       "\u001b[1m Total params: \u001b[0m\u001b[38;5;34m1,313,027\u001b[0m (5.01 MB)\n"
      ]
     },
     "metadata": {},
     "output_type": "display_data"
    },
    {
     "data": {
      "text/html": [
       "<pre style=\"white-space:pre;overflow-x:auto;line-height:normal;font-family:Menlo,'DejaVu Sans Mono',consolas,'Courier New',monospace\"><span style=\"font-weight: bold\"> Trainable params: </span><span style=\"color: #00af00; text-decoration-color: #00af00\">1,313,025</span> (5.01 MB)\n",
       "</pre>\n"
      ],
      "text/plain": [
       "\u001b[1m Trainable params: \u001b[0m\u001b[38;5;34m1,313,025\u001b[0m (5.01 MB)\n"
      ]
     },
     "metadata": {},
     "output_type": "display_data"
    },
    {
     "data": {
      "text/html": [
       "<pre style=\"white-space:pre;overflow-x:auto;line-height:normal;font-family:Menlo,'DejaVu Sans Mono',consolas,'Courier New',monospace\"><span style=\"font-weight: bold\"> Non-trainable params: </span><span style=\"color: #00af00; text-decoration-color: #00af00\">0</span> (0.00 B)\n",
       "</pre>\n"
      ],
      "text/plain": [
       "\u001b[1m Non-trainable params: \u001b[0m\u001b[38;5;34m0\u001b[0m (0.00 B)\n"
      ]
     },
     "metadata": {},
     "output_type": "display_data"
    },
    {
     "data": {
      "text/html": [
       "<pre style=\"white-space:pre;overflow-x:auto;line-height:normal;font-family:Menlo,'DejaVu Sans Mono',consolas,'Courier New',monospace\"><span style=\"font-weight: bold\"> Optimizer params: </span><span style=\"color: #00af00; text-decoration-color: #00af00\">2</span> (12.00 B)\n",
       "</pre>\n"
      ],
      "text/plain": [
       "\u001b[1m Optimizer params: \u001b[0m\u001b[38;5;34m2\u001b[0m (12.00 B)\n"
      ]
     },
     "metadata": {},
     "output_type": "display_data"
    }
   ],
   "source": [
    "# Load the pre-trained model with ReLU activation\n",
    "model = load_model('simple_rnn_imdb.h5')\n",
    "model.summary()"
   ]
  },
  {
   "cell_type": "code",
   "execution_count": 4,
   "metadata": {},
   "outputs": [
    {
     "data": {
      "text/plain": [
       "[array([[ 1.8154097e-01,  1.7634508e-01,  9.2201971e-02, ...,\n",
       "         -2.6248664e-01,  6.1957788e-01,  2.1732633e-01],\n",
       "        [-4.3395810e-02, -1.8857626e-02, -4.6443250e-02, ...,\n",
       "         -5.5931058e-02,  2.1746855e-03,  2.5206966e-02],\n",
       "        [ 8.9008316e-02,  9.5681094e-02, -5.2867059e-02, ...,\n",
       "         -5.3367935e-02,  1.7133534e-02,  1.4722744e-01],\n",
       "        ...,\n",
       "        [-1.1324019e-02,  1.9942727e-02,  9.2840074e-03, ...,\n",
       "          4.2052004e-03, -1.2352865e-02, -3.6584046e-02],\n",
       "        [ 4.9314193e-02, -5.7500941e-03, -5.2148797e-02, ...,\n",
       "         -6.6951714e-02,  2.2724157e-02, -3.6354348e-02],\n",
       "        [-2.8975805e-02, -7.0942128e-03, -4.7927916e-02, ...,\n",
       "          7.2365455e-02,  2.0115230e-04,  5.9766430e-02]],\n",
       "       shape=(10000, 128), dtype=float32),\n",
       " array([[-0.02001891, -0.00616229,  0.05400741, ..., -0.09545514,\n",
       "         -0.05142137,  0.01492224],\n",
       "        [ 0.01111115,  0.00799185,  0.00930334, ...,  0.09937327,\n",
       "         -0.11302847,  0.0641027 ],\n",
       "        [ 0.01701185,  0.06766657,  0.0322456 , ..., -0.06479771,\n",
       "          0.13060492, -0.06516259],\n",
       "        ...,\n",
       "        [-0.09640621,  0.00197214, -0.07741067, ...,  0.03976315,\n",
       "         -0.11777855, -0.15113156],\n",
       "        [-0.12376092, -0.02390609, -0.11959621, ..., -0.07654105,\n",
       "          0.05010727,  0.03456183],\n",
       "        [-0.03621673,  0.08210902, -0.03731695, ..., -0.1215942 ,\n",
       "         -0.02783966, -0.00486378]], shape=(128, 128), dtype=float32),\n",
       " array([[-0.10719527,  0.04337221, -0.0421773 , ...,  0.06840088,\n",
       "         -0.00863646,  0.2648721 ],\n",
       "        [-0.13302831, -0.01120223,  0.04200497, ..., -0.00234384,\n",
       "          0.05335108,  0.07950574],\n",
       "        [-0.02367524, -0.00555441,  0.06821245, ..., -0.01300926,\n",
       "          0.04518849, -0.0123032 ],\n",
       "        ...,\n",
       "        [-0.15377925,  0.04716748,  0.04996999, ..., -0.23108906,\n",
       "          0.1752639 , -0.01299089],\n",
       "        [-0.05945411, -0.13225445,  0.05656721, ..., -0.03816783,\n",
       "          0.07650193,  0.03490913],\n",
       "        [-0.01842606, -0.23538059, -0.02840343, ...,  0.12192984,\n",
       "          0.18436956,  0.10384369]], shape=(128, 128), dtype=float32),\n",
       " array([-9.82282776e-03, -2.23145895e-02, -3.39916535e-02, -2.43519936e-02,\n",
       "        -2.77833231e-02, -3.84539291e-02, -2.20202617e-02,  3.60945240e-02,\n",
       "        -7.74302939e-03, -6.64821342e-02, -2.58152299e-02, -2.14903429e-02,\n",
       "         1.76291540e-02,  2.47132052e-02,  2.02079434e-02, -2.48331465e-02,\n",
       "         2.86806412e-02,  2.67198193e-03,  2.60117021e-03, -7.05717597e-03,\n",
       "        -7.48196058e-03,  3.13784033e-02, -2.49517616e-02, -4.66575986e-03,\n",
       "         1.14938747e-02,  1.35151008e-02,  6.46953704e-03,  1.56381656e-03,\n",
       "         2.12561041e-02, -2.92676184e-02, -3.96736972e-02, -8.79343320e-03,\n",
       "        -2.32380833e-02, -2.25738995e-02, -1.95003096e-02, -1.90226100e-02,\n",
       "        -1.52098266e-02,  7.50874169e-03, -3.09881493e-02, -4.97044250e-03,\n",
       "        -3.35535631e-02, -2.09601708e-02,  5.72543871e-03, -1.43198529e-03,\n",
       "         8.78975261e-03, -3.64172272e-02, -8.16083234e-03, -4.58939653e-03,\n",
       "         2.14541983e-02, -1.58518311e-02, -2.53456496e-02,  1.29914656e-02,\n",
       "        -2.29406040e-02,  7.76656112e-03, -1.24528268e-02, -2.28866804e-02,\n",
       "         1.92545168e-02, -6.96743699e-03,  1.63907409e-02,  3.66106965e-02,\n",
       "        -1.65146682e-02, -2.24448387e-02,  1.27404565e-02, -6.24333741e-03,\n",
       "        -1.44727174e-02, -1.51989413e-02,  8.67148701e-05,  6.50581950e-03,\n",
       "         9.83418617e-03,  4.41465713e-03,  1.02458522e-02, -5.12650795e-02,\n",
       "        -1.45218906e-03,  1.63324224e-03, -7.45191332e-03, -2.57808827e-02,\n",
       "        -3.50234844e-02,  1.66549440e-02, -7.87975453e-03, -1.96959805e-02,\n",
       "         2.17521377e-02,  3.13748792e-02, -1.88584086e-02,  1.23892063e-02,\n",
       "        -1.18668592e-02, -2.01628823e-02, -1.40573941e-02, -7.71737134e-04,\n",
       "        -3.27392854e-02, -1.31296152e-02, -3.52797024e-02, -1.95093255e-03,\n",
       "         2.39948891e-02,  2.46882234e-02,  1.75513756e-02, -1.08040562e-02,\n",
       "        -3.19547392e-02,  1.37045970e-02, -1.48454756e-02,  4.31041680e-02,\n",
       "        -7.06533389e-03,  2.27155294e-02, -3.63493487e-02, -1.84471514e-02,\n",
       "        -9.70671140e-03, -6.92403119e-04, -1.61810908e-02, -2.80288681e-02,\n",
       "        -1.94639377e-02, -2.37210970e-02,  1.60519057e-03, -3.35270688e-02,\n",
       "         5.54662291e-03,  3.91869759e-03, -2.37839520e-02, -2.16106530e-02,\n",
       "        -6.13625441e-03, -1.68378800e-02,  3.40324268e-02,  9.28578991e-03,\n",
       "        -1.64585095e-02, -2.80367248e-02, -2.65041459e-03, -2.04121489e-02,\n",
       "        -2.81133708e-02, -2.00764704e-02,  3.33712511e-02,  3.02892104e-02],\n",
       "       dtype=float32),\n",
       " array([[ 0.19720232],\n",
       "        [ 0.24206471],\n",
       "        [-0.20010655],\n",
       "        [-0.03816566],\n",
       "        [ 0.16653597],\n",
       "        [-0.2593135 ],\n",
       "        [-0.07476395],\n",
       "        [-0.02993642],\n",
       "        [ 0.11498142],\n",
       "        [-0.027199  ],\n",
       "        [ 0.08656918],\n",
       "        [-0.04058931],\n",
       "        [ 0.20977557],\n",
       "        [ 0.24646766],\n",
       "        [ 0.08861689],\n",
       "        [-0.15937096],\n",
       "        [ 0.09548823],\n",
       "        [ 0.20236342],\n",
       "        [-0.2214603 ],\n",
       "        [ 0.21109104],\n",
       "        [-0.17438394],\n",
       "        [-0.02780887],\n",
       "        [ 0.20586139],\n",
       "        [ 0.08542528],\n",
       "        [-0.14501327],\n",
       "        [ 0.1174887 ],\n",
       "        [-0.08964007],\n",
       "        [ 0.09366836],\n",
       "        [ 0.16741776],\n",
       "        [ 0.06019687],\n",
       "        [-0.09220938],\n",
       "        [-0.10994226],\n",
       "        [-0.13227847],\n",
       "        [ 0.12070332],\n",
       "        [ 0.2891266 ],\n",
       "        [ 0.15113823],\n",
       "        [ 0.15281583],\n",
       "        [ 0.1976435 ],\n",
       "        [ 0.05300994],\n",
       "        [-0.21688607],\n",
       "        [ 0.02346122],\n",
       "        [ 0.03192339],\n",
       "        [-0.1923498 ],\n",
       "        [ 0.08809516],\n",
       "        [ 0.18387558],\n",
       "        [ 0.00291795],\n",
       "        [ 0.00295418],\n",
       "        [ 0.07391524],\n",
       "        [ 0.17033878],\n",
       "        [ 0.02414189],\n",
       "        [ 0.07409514],\n",
       "        [-0.18982534],\n",
       "        [ 0.09395231],\n",
       "        [ 0.05691208],\n",
       "        [-0.10521829],\n",
       "        [ 0.05425801],\n",
       "        [ 0.13242102],\n",
       "        [-0.14764668],\n",
       "        [ 0.11628287],\n",
       "        [ 0.06822021],\n",
       "        [ 0.1827685 ],\n",
       "        [-0.00383399],\n",
       "        [ 0.03568222],\n",
       "        [-0.27893642],\n",
       "        [-0.19728246],\n",
       "        [-0.23436296],\n",
       "        [-0.01299746],\n",
       "        [-0.11625434],\n",
       "        [-0.16685148],\n",
       "        [ 0.01303865],\n",
       "        [ 0.2987654 ],\n",
       "        [-0.25422236],\n",
       "        [-0.10190888],\n",
       "        [ 0.18002935],\n",
       "        [-0.01259742],\n",
       "        [ 0.00622742],\n",
       "        [-0.19393034],\n",
       "        [ 0.01418972],\n",
       "        [-0.03539002],\n",
       "        [ 0.10379214],\n",
       "        [-0.15426278],\n",
       "        [-0.1832098 ],\n",
       "        [ 0.12024526],\n",
       "        [ 0.01531026],\n",
       "        [-0.01920675],\n",
       "        [ 0.16338724],\n",
       "        [-0.21591087],\n",
       "        [ 0.11048297],\n",
       "        [ 0.45792145],\n",
       "        [-0.21177214],\n",
       "        [ 0.03513627],\n",
       "        [-0.15266214],\n",
       "        [-0.14148714],\n",
       "        [-0.13923942],\n",
       "        [ 0.07029563],\n",
       "        [ 0.07297105],\n",
       "        [-0.00508035],\n",
       "        [ 0.24713133],\n",
       "        [ 0.18454789],\n",
       "        [-0.19697148],\n",
       "        [-0.0396137 ],\n",
       "        [-0.19419485],\n",
       "        [ 0.02818447],\n",
       "        [ 0.15547815],\n",
       "        [ 0.04482337],\n",
       "        [-0.20088243],\n",
       "        [ 0.15209466],\n",
       "        [-0.08881132],\n",
       "        [ 0.1407492 ],\n",
       "        [-0.0292151 ],\n",
       "        [ 0.2336749 ],\n",
       "        [-0.5574556 ],\n",
       "        [ 0.17957808],\n",
       "        [-0.1634555 ],\n",
       "        [-0.16570657],\n",
       "        [-0.18435663],\n",
       "        [-0.19364858],\n",
       "        [-0.11105328],\n",
       "        [ 0.1714793 ],\n",
       "        [ 0.15985805],\n",
       "        [ 0.24576443],\n",
       "        [ 0.02467197],\n",
       "        [ 0.16974089],\n",
       "        [-0.05886552],\n",
       "        [-0.07897151],\n",
       "        [-0.12542006],\n",
       "        [-0.23925787],\n",
       "        [-0.06752598]], dtype=float32),\n",
       " array([0.684463], dtype=float32)]"
      ]
     },
     "execution_count": 4,
     "metadata": {},
     "output_type": "execute_result"
    }
   ],
   "source": [
    "model.get_weights()"
   ]
  },
  {
   "cell_type": "code",
   "execution_count": 5,
   "metadata": {},
   "outputs": [],
   "source": [
    "# Step 2: Helper Functions\n",
    "# Function to decode reviews\n",
    "def decode_review(encoded_review):\n",
    "    return ' '.join([reverse_word_index.get(i - 3, '?') for i in encoded_review])\n",
    "\n",
    "# Function to preprocess user input\n",
    "def preprocess_text(text):\n",
    "    words = text.lower().split()\n",
    "    encoded_review = [word_index.get(word, 2) + 3 for word in words]\n",
    "    padded_review = sequence.pad_sequences([encoded_review], maxlen=500)\n",
    "    return padded_review"
   ]
  },
  {
   "cell_type": "code",
   "execution_count": 6,
   "metadata": {},
   "outputs": [],
   "source": [
    "### Prediction  function\n",
    "\n",
    "def predict_sentiment(review):\n",
    "    preprocessed_input=preprocess_text(review)\n",
    "\n",
    "    prediction=model.predict(preprocessed_input)\n",
    "\n",
    "    sentiment = 'Positive' if prediction[0][0] > 0.5 else 'Negative'\n",
    "    \n",
    "    return sentiment, prediction[0][0]\n",
    "\n"
   ]
  },
  {
   "cell_type": "code",
   "execution_count": 11,
   "metadata": {},
   "outputs": [
    {
     "name": "stdout",
     "output_type": "stream",
     "text": [
      "\u001b[1m1/1\u001b[0m \u001b[32m━━━━━━━━━━━━━━━━━━━━\u001b[0m\u001b[37m\u001b[0m \u001b[1m0s\u001b[0m 22ms/step\n",
      "Review: This movie was really awesome! The acting was good and the plot was good.\n",
      "Sentiment: Positive\n",
      "Prediction Score: 0.5204246640205383\n"
     ]
    }
   ],
   "source": [
    "# Step 4: User Input and Prediction\n",
    "# Example review for prediction\n",
    "example_review = \"This movie was really awesome! The acting was good and the plot was good.\"\n",
    "\n",
    "sentiment,score=predict_sentiment(example_review)\n",
    "\n",
    "print(f'Review: {example_review}')\n",
    "print(f'Sentiment: {sentiment}')\n",
    "print(f'Prediction Score: {score}')"
   ]
  },
  {
   "cell_type": "code",
   "execution_count": null,
   "metadata": {},
   "outputs": [],
   "source": []
  },
  {
   "cell_type": "code",
   "execution_count": null,
   "metadata": {},
   "outputs": [],
   "source": []
  },
  {
   "cell_type": "code",
   "execution_count": null,
   "metadata": {},
   "outputs": [],
   "source": []
  },
  {
   "cell_type": "code",
   "execution_count": null,
   "metadata": {},
   "outputs": [],
   "source": []
  }
 ],
 "metadata": {
  "kernelspec": {
   "display_name": "Python 3",
   "language": "python",
   "name": "python3"
  },
  "language_info": {
   "codemirror_mode": {
    "name": "ipython",
    "version": 3
   },
   "file_extension": ".py",
   "mimetype": "text/x-python",
   "name": "python",
   "nbconvert_exporter": "python",
   "pygments_lexer": "ipython3",
   "version": "3.12.9"
  }
 },
 "nbformat": 4,
 "nbformat_minor": 2
}
